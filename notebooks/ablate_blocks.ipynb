{
 "cells": [
  {
   "cell_type": "code",
   "execution_count": null,
   "metadata": {},
   "outputs": [
    {
     "ename": "ImportError",
     "evalue": "attempted relative import with no known parent package",
     "output_type": "error",
     "traceback": [
      "\u001b[0;31m---------------------------------------------------------------------------\u001b[0m",
      "\u001b[0;31mImportError\u001b[0m                               Traceback (most recent call last)",
      "Cell \u001b[0;32mIn[5], line 6\u001b[0m\n\u001b[1;32m      3\u001b[0m \u001b[38;5;28;01mfrom\u001b[39;00m\u001b[38;5;250m \u001b[39m\u001b[38;5;21;01mdiffusers\u001b[39;00m\u001b[38;5;250m \u001b[39m\u001b[38;5;28;01mimport\u001b[39;00m DiffusionPipeline, UNet2DConditionModel\n\u001b[1;32m      5\u001b[0m \u001b[38;5;66;03m# import src.hooked_model.scheduler\u001b[39;00m\n\u001b[0;32m----> 6\u001b[0m \u001b[38;5;28;01mfrom\u001b[39;00m\u001b[38;5;250m \u001b[39m\u001b[38;5;21;01m.\u001b[39;00m\u001b[38;5;21;01m.\u001b[39;00m\u001b[38;5;21;01msrc\u001b[39;00m\u001b[38;5;21;01m.\u001b[39;00m\u001b[38;5;21;01mhooked_model\u001b[39;00m\u001b[38;5;21;01m.\u001b[39;00m\u001b[38;5;21;01mhooked_model\u001b[39;00m\u001b[38;5;250m \u001b[39m\u001b[38;5;28;01mimport\u001b[39;00m HookedDiffusionModel\n\u001b[1;32m      7\u001b[0m \u001b[38;5;28;01mfrom\u001b[39;00m\u001b[38;5;250m \u001b[39m\u001b[38;5;21;01msrc\u001b[39;00m\u001b[38;5;21;01m.\u001b[39;00m\u001b[38;5;21;01mhooked_model\u001b[39;00m\u001b[38;5;21;01m.\u001b[39;00m\u001b[38;5;21;01mhooks\u001b[39;00m\u001b[38;5;250m \u001b[39m\u001b[38;5;28;01mimport\u001b[39;00m AblateHook\n\u001b[1;32m      8\u001b[0m \u001b[38;5;28;01mfrom\u001b[39;00m\u001b[38;5;250m \u001b[39m\u001b[38;5;21;01msrc\u001b[39;00m\u001b[38;5;21;01m.\u001b[39;00m\u001b[38;5;21;01mhooked_model\u001b[39;00m\u001b[38;5;21;01m.\u001b[39;00m\u001b[38;5;21;01mutils\u001b[39;00m\u001b[38;5;250m \u001b[39m\u001b[38;5;28;01mimport\u001b[39;00m (\n\u001b[1;32m      9\u001b[0m     get_timesteps,\n\u001b[1;32m     10\u001b[0m )\n",
      "\u001b[0;31mImportError\u001b[0m: attempted relative import with no known parent package"
     ]
    }
   ],
   "source": [
    "import matplotlib.pyplot as plt\n",
    "import torch\n",
    "from diffusers import DiffusionPipeline, UNet2DConditionModel\n",
    "\n",
    "import src.hooked_model.scheduler\n",
    "from src.hooked_model.hooked_model import HookedDiffusionModel\n",
    "from src.hooked_model.hooks import AblateHook\n",
    "from src.hooked_model.utils import (\n",
    "    get_timesteps,\n",
    ")\n"
   ]
  },
  {
   "cell_type": "code",
   "execution_count": null,
   "metadata": {},
   "outputs": [],
   "source": [
    "# model_name = \"sd-legacy/stable-diffusion-v1-5\"\n",
    "model_name = \"damo-vilab/text-to-video-ms-1.7b\"\n"
   ]
  },
  {
   "cell_type": "markdown",
   "metadata": {},
   "source": [
    "### How to register ablation hook and use it during the inference"
   ]
  },
  {
   "cell_type": "code",
   "execution_count": null,
   "metadata": {},
   "outputs": [],
   "source": [
    "pipe = DiffusionPipeline.from_pretrained(\n",
    "    model_name,\n",
    "    torch_dtype=torch.float16,\n",
    "    # use_safetensors=True,\n",
    "    variant=\"fp16\",\n",
    ").to(\"cuda\")\n"
   ]
  },
  {
   "cell_type": "code",
   "execution_count": null,
   "metadata": {},
   "outputs": [],
   "source": [
    "# model = UNet2DConditionModel.from_pretrained(\n",
    "#     model_name,\n",
    "#     subfolder=\"unet\",\n",
    "#     torch_dtype=torch.float16,\n",
    "#     use_safetensors=True,\n",
    "# ).to(\"cuda\")\n",
    "model = pipe.unet\n"
   ]
  },
  {
   "cell_type": "code",
   "execution_count": null,
   "metadata": {},
   "outputs": [],
   "source": [
    "# scheduler = src.hooked_model.scheduler.DDIMScheduler.from_config(pipe.scheduler.config)\n",
    "scheduler = pipe.scheduler\n"
   ]
  },
  {
   "cell_type": "code",
   "execution_count": 40,
   "metadata": {},
   "outputs": [],
   "source": [
    "hooked_model = HookedDiffusionModel(\n",
    "    model=model,\n",
    "    scheduler=scheduler,\n",
    "    encode_prompt=pipe.encode_prompt,\n",
    "    get_timesteps=get_timesteps,\n",
    "    vae=pipe.vae,\n",
    ")\n"
   ]
  },
  {
   "cell_type": "code",
   "execution_count": null,
   "metadata": {},
   "outputs": [],
   "source": [
    "import re\n",
    "\n",
    "hookpoints = []\n",
    "pattern = re.compile(r\".*\\.attentions\\.(\\d+)$\")\n",
    "for n, m in pipe.unet.named_modules():\n",
    "    match = pattern.match(n)\n",
    "    if match:\n",
    "        hookpoints.append(n)\n",
    "        print(n)\n"
   ]
  },
  {
   "cell_type": "code",
   "execution_count": 43,
   "metadata": {},
   "outputs": [],
   "source": [
    "prompts = [\"A photo of an astronaut in Van Gogh style\" for _ in range(4)]"
   ]
  },
  {
   "cell_type": "code",
   "execution_count": 46,
   "metadata": {},
   "outputs": [],
   "source": [
    "all_images = []\n",
    "\n",
    "for i, hookpoint in enumerate(hookpoints):\n",
    "    image = hooked_model.run_with_hooks(\n",
    "        {hookpoint: AblateHook()},\n",
    "        prompt=prompts,\n",
    "        num_inference_steps=50,\n",
    "        guidance_scale=7.5,\n",
    "        generator=torch.Generator(device=\"cuda\").manual_seed(1),\n",
    "    )\n",
    "\n",
    "    all_images.append(image)"
   ]
  },
  {
   "cell_type": "code",
   "execution_count": null,
   "metadata": {},
   "outputs": [],
   "source": [
    "def display_images(all_images, hookpoints, images_per_row=4):\n",
    "    rows = len(all_images)\n",
    "    fig, axes = plt.subplots(\n",
    "        rows, images_per_row, figsize=(images_per_row * 3, rows * 3)\n",
    "    )\n",
    "    fig.subplots_adjust(hspace=0.5, wspace=0.5)  # Adjust space between rows and columns\n",
    "\n",
    "    for i, row_images in enumerate(all_images[:rows]):  # Limit to the first `rows`\n",
    "        for j, image in enumerate(\n",
    "            row_images[:images_per_row]\n",
    "        ):  # Limit to `images_per_row`\n",
    "            ax = axes[i, j] if rows > 1 else axes[j]  # Handle single row case\n",
    "            ax.imshow(image)\n",
    "            ax.axis(\"off\")  # Turn off axes for a cleaner look\n",
    "            if j == 0:\n",
    "                ax.set_title(hookpoints[i])\n",
    "    plt.tight_layout()\n",
    "    plt.show()\n",
    "\n",
    "\n",
    "display_images(all_images, hookpoints)\n"
   ]
  }
 ],
 "metadata": {
  "kernelspec": {
   "display_name": "diffusers",
   "language": "python",
   "name": "python3"
  },
  "language_info": {
   "codemirror_mode": {
    "name": "ipython",
    "version": 3
   },
   "file_extension": ".py",
   "mimetype": "text/x-python",
   "name": "python",
   "nbconvert_exporter": "python",
   "pygments_lexer": "ipython3",
   "version": "3.12.9"
  }
 },
 "nbformat": 4,
 "nbformat_minor": 2
}
